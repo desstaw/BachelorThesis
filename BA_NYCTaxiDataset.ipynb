{
  "nbformat": 4,
  "nbformat_minor": 0,
  "metadata": {
    "colab": {
      "provenance": [],
      "collapsed_sections": [],
      "history_visible": true
    },
    "kernelspec": {
      "name": "python3",
      "display_name": "Python 3"
    },
    "language_info": {
      "name": "python"
    },
    "accelerator": "GPU"
  },
  "cells": [
    {
      "cell_type": "code",
      "metadata": {
        "colab": {
          "base_uri": "https://localhost:8080/"
        },
        "id": "krpZPlMjjYLd",
        "outputId": "2365eb18-0af3-4c62-a7c7-49bcd649aa9b"
      },
      "source": [
        "from google.colab import drive\n",
        "drive.mount('/content/drive', force_remount=True)"
      ],
      "execution_count": null,
      "outputs": [
        {
          "output_type": "stream",
          "name": "stdout",
          "text": [
            "Mounted at /content/drive\n"
          ]
        }
      ]
    },
    {
      "cell_type": "code",
      "metadata": {
        "id": "TslhVfWttGiu"
      },
      "source": [
        "import numpy as np       \n",
        "import pandas as pd\n",
        "import seaborn as sns     \n",
        "sns.set()\n",
        "import matplotlib.pyplot as plt\n",
        "%matplotlib inline\n",
        "import datetime as dt\n",
        "import warnings; warnings.simplefilter('ignore')\n",
        "\n",
        "\n",
        "path = \"/content/drive/MyDrive/Bachelorarbeit/yellow_tripdata_2016-06.csv\"\n",
        "\n",
        "#Dataset is now stored in Pandas Dataframe\n",
        "df = pd.read_csv(path)\n",
        "\n",
        "df.describe()"
      ],
      "execution_count": null,
      "outputs": []
    },
    {
      "cell_type": "code",
      "metadata": {
        "id": "80tPF8obzJQX",
        "colab": {
          "base_uri": "https://localhost:8080/"
        },
        "outputId": "08b59b5b-8461-480a-d5ee-262bcce895cc"
      },
      "source": [
        "df.shape"
      ],
      "execution_count": null,
      "outputs": [
        {
          "output_type": "execute_result",
          "data": {
            "text/plain": [
              "(11135470, 19)"
            ]
          },
          "metadata": {},
          "execution_count": 3
        }
      ]
    },
    {
      "cell_type": "code",
      "metadata": {
        "id": "XG0X5K9MzpSB",
        "colab": {
          "base_uri": "https://localhost:8080/"
        },
        "outputId": "79c997d9-7271-4e4f-b40f-c91267b4a7e0"
      },
      "source": [
        "df.columns"
      ],
      "execution_count": null,
      "outputs": [
        {
          "output_type": "execute_result",
          "data": {
            "text/plain": [
              "Index(['VendorID', 'tpep_pickup_datetime', 'tpep_dropoff_datetime',\n",
              "       'passenger_count', 'trip_distance', 'pickup_longitude',\n",
              "       'pickup_latitude', 'RatecodeID', 'store_and_fwd_flag',\n",
              "       'dropoff_longitude', 'dropoff_latitude', 'payment_type', 'fare_amount',\n",
              "       'extra', 'mta_tax', 'tip_amount', 'tolls_amount',\n",
              "       'improvement_surcharge', 'total_amount'],\n",
              "      dtype='object')"
            ]
          },
          "metadata": {},
          "execution_count": 4
        }
      ]
    },
    {
      "cell_type": "code",
      "metadata": {
        "id": "dWFxYLCOzqDv",
        "colab": {
          "base_uri": "https://localhost:8080/"
        },
        "outputId": "52e7397c-7fd2-452c-d6e8-5b7864cf4337"
      },
      "source": [
        "df.dtypes"
      ],
      "execution_count": null,
      "outputs": [
        {
          "output_type": "execute_result",
          "data": {
            "text/plain": [
              "VendorID                   int64\n",
              "tpep_pickup_datetime      object\n",
              "tpep_dropoff_datetime     object\n",
              "passenger_count            int64\n",
              "trip_distance            float64\n",
              "pickup_longitude         float64\n",
              "pickup_latitude          float64\n",
              "RatecodeID                 int64\n",
              "store_and_fwd_flag        object\n",
              "dropoff_longitude        float64\n",
              "dropoff_latitude         float64\n",
              "payment_type               int64\n",
              "fare_amount              float64\n",
              "extra                    float64\n",
              "mta_tax                  float64\n",
              "tip_amount               float64\n",
              "tolls_amount             float64\n",
              "improvement_surcharge    float64\n",
              "total_amount             float64\n",
              "dtype: object"
            ]
          },
          "metadata": {},
          "execution_count": 5
        }
      ]
    },
    {
      "cell_type": "code",
      "metadata": {
        "id": "7Us482pWxrhB",
        "colab": {
          "base_uri": "https://localhost:8080/"
        },
        "outputId": "af5044ba-b16b-4724-ec9e-356e4c51e20f"
      },
      "source": [
        "df.describe"
      ],
      "execution_count": null,
      "outputs": [
        {
          "output_type": "execute_result",
          "data": {
            "text/plain": [
              "<bound method NDFrame.describe of           VendorID tpep_pickup_datetime  ... improvement_surcharge  total_amount\n",
              "0                2  2016-06-09 21:06:36  ...                   0.3          7.30\n",
              "1                2  2016-06-09 21:06:36  ...                   0.3         27.30\n",
              "2                2  2016-06-09 21:06:36  ...                   0.3          9.36\n",
              "3                2  2016-06-09 21:06:36  ...                   0.3         28.30\n",
              "4                2  2016-06-09 21:06:36  ...                   0.3         17.76\n",
              "...            ...                  ...  ...                   ...           ...\n",
              "11135465         1  2016-06-21 22:08:42  ...                   0.3         10.30\n",
              "11135466         1  2016-06-21 22:08:42  ...                   0.3          9.35\n",
              "11135467         1  2016-06-21 22:08:42  ...                   0.3         15.35\n",
              "11135468         2  2016-06-21 22:08:42  ...                   0.3         25.80\n",
              "11135469         2  2016-06-21 22:08:42  ...                   0.3         17.16\n",
              "\n",
              "[11135470 rows x 19 columns]>"
            ]
          },
          "metadata": {},
          "execution_count": 6
        }
      ]
    },
    {
      "cell_type": "code",
      "metadata": {
        "id": "ieeUFi3_ocxk",
        "colab": {
          "base_uri": "https://localhost:8080/"
        },
        "outputId": "e2c792cb-602f-4bf6-b057-0d2084d593a9"
      },
      "source": [
        "df.isnull().sum()"
      ],
      "execution_count": null,
      "outputs": [
        {
          "output_type": "execute_result",
          "data": {
            "text/plain": [
              "VendorID                 0\n",
              "tpep_pickup_datetime     0\n",
              "tpep_dropoff_datetime    0\n",
              "passenger_count          0\n",
              "trip_distance            0\n",
              "pickup_longitude         0\n",
              "pickup_latitude          0\n",
              "RatecodeID               0\n",
              "store_and_fwd_flag       0\n",
              "dropoff_longitude        0\n",
              "dropoff_latitude         0\n",
              "payment_type             0\n",
              "fare_amount              0\n",
              "extra                    0\n",
              "mta_tax                  0\n",
              "tip_amount               0\n",
              "tolls_amount             0\n",
              "improvement_surcharge    0\n",
              "total_amount             0\n",
              "dtype: int64"
            ]
          },
          "metadata": {},
          "execution_count": 7
        }
      ]
    },
    {
      "cell_type": "code",
      "metadata": {
        "id": "VsTTu78pomNd",
        "colab": {
          "base_uri": "https://localhost:8080/"
        },
        "outputId": "01aa160b-670a-4f46-cd1e-c720846d5899"
      },
      "source": [
        "df.nunique()"
      ],
      "execution_count": null,
      "outputs": [
        {
          "output_type": "execute_result",
          "data": {
            "text/plain": [
              "VendorID                       2\n",
              "tpep_pickup_datetime     2395442\n",
              "tpep_dropoff_datetime    2399652\n",
              "passenger_count               10\n",
              "trip_distance               4581\n",
              "pickup_longitude           35135\n",
              "pickup_latitude            61876\n",
              "RatecodeID                     7\n",
              "store_and_fwd_flag             2\n",
              "dropoff_longitude          55408\n",
              "dropoff_latitude           88017\n",
              "payment_type                   5\n",
              "fare_amount                 1953\n",
              "extra                         48\n",
              "mta_tax                       11\n",
              "tip_amount                  3806\n",
              "tolls_amount                1016\n",
              "improvement_surcharge         16\n",
              "total_amount               12127\n",
              "dtype: int64"
            ]
          },
          "metadata": {},
          "execution_count": 8
        }
      ]
    },
    {
      "cell_type": "code",
      "metadata": {
        "id": "Bd5T80ykvNSg"
      },
      "source": [
        "#convert it to datetime\n",
        "df['pickup_datetime']=pd.to_datetime(df['tpep_pickup_datetime'], format='%Y-%m-%d %H:%M:%S')\n",
        "df['dropoff_datetime']=pd.to_datetime(df['tpep_dropoff_datetime'], format='%Y-%m-%d %H:%M:%S')"
      ],
      "execution_count": null,
      "outputs": []
    },
    {
      "cell_type": "code",
      "metadata": {
        "id": "2PF0MxZA3UAf"
      },
      "source": [
        "df['pickup_time']=pd.to_datetime(df['pickup_datetime'], format='%H:%M:%S')\n",
        "df['dropoff_time']=pd.to_datetime(df['dropoff_datetime'], format='%H:%M:%S')"
      ],
      "execution_count": null,
      "outputs": []
    },
    {
      "cell_type": "code",
      "metadata": {
        "id": "a4pAKTCH96Fh",
        "colab": {
          "base_uri": "https://localhost:8080/"
        },
        "outputId": "d9c73725-07f3-4862-b166-1c1ec2e28914"
      },
      "source": [
        "df.pickup_time"
      ],
      "execution_count": null,
      "outputs": [
        {
          "output_type": "execute_result",
          "data": {
            "text/plain": [
              "0          2016-06-09 21:06:36\n",
              "1          2016-06-09 21:06:36\n",
              "2          2016-06-09 21:06:36\n",
              "3          2016-06-09 21:06:36\n",
              "4          2016-06-09 21:06:36\n",
              "                   ...        \n",
              "11135465   2016-06-21 22:08:42\n",
              "11135466   2016-06-21 22:08:42\n",
              "11135467   2016-06-21 22:08:42\n",
              "11135468   2016-06-21 22:08:42\n",
              "11135469   2016-06-21 22:08:42\n",
              "Name: pickup_time, Length: 11135470, dtype: datetime64[ns]"
            ]
          },
          "metadata": {},
          "execution_count": 11
        }
      ]
    },
    {
      "cell_type": "code",
      "metadata": {
        "id": "IbOVlCN9vjP3"
      },
      "source": [
        "#extract and create new features from the datetime feature\n",
        "# Delimit pickup_datetime variable \n",
        "df['pickup_date'] = df['pickup_datetime'].dt.date # Extract date\n",
        "df['pickup_time'] = df['pickup_datetime'].dt.time # Extract time\n",
        "\n",
        "# Delimit dropoff_datetime variables\n",
        "df['dropoff_date'] = df['dropoff_datetime'].dt.date # Extract date\n",
        "df['dropoff_time'] = df['dropoff_datetime'].dt.time # Extract time\n",
        "df['pickup_day']=df['pickup_datetime'].dt.day_name()\n",
        "df['dropoff_day']=df['dropoff_datetime'].dt.day_name()\n",
        "\n",
        "df['pickup_day_no']=df['pickup_datetime'].dt.day\n",
        "df['dropoff_day_no']=df['dropoff_datetime'].dt.day\n",
        "\n",
        "df['pickup_month']=df['pickup_datetime'].dt.month\n",
        "df['dropoff_month']=df['dropoff_datetime'].dt.month\n",
        "\n",
        "df['pickup_hour']=df['pickup_datetime'].dt.hour\n",
        "df['dropoff_hour']=df['dropoff_datetime'].dt.hour\n",
        "\n",
        "df['pickup_minute']=df['pickup_datetime'].dt.minute\n",
        "df['dropoff_minute']=df['dropoff_datetime'].dt.minute\n"
      ],
      "execution_count": null,
      "outputs": []
    },
    {
      "cell_type": "code",
      "metadata": {
        "id": "EyeCeVtUzR0w",
        "colab": {
          "base_uri": "https://localhost:8080/"
        },
        "outputId": "69fed05b-738a-442b-c4e1-5be5bdccbf3e"
      },
      "source": [
        "df.shape"
      ],
      "execution_count": null,
      "outputs": [
        {
          "output_type": "execute_result",
          "data": {
            "text/plain": [
              "(11135470, 35)"
            ]
          },
          "metadata": {},
          "execution_count": 13
        }
      ]
    },
    {
      "cell_type": "code",
      "metadata": {
        "id": "SX_Ixz3qzhuQ"
      },
      "source": [
        "#df.drop(['tpep_pickup_datetime', 'tpep_dropoff_datetime'], axis=1,)"
      ],
      "execution_count": null,
      "outputs": []
    },
    {
      "cell_type": "code",
      "metadata": {
        "id": "pya_d31Bmlc1"
      },
      "source": [
        "#df['trip_duration'] = df.apply(lambda row: row.tpep_dropoff_datetime - (row.tpep_pickup_datetime), axis=1)\n",
        "#df['trip_duration'] = df['dropoff_time'] - df['pickup_time']\n",
        "#df['trip_duration'] = (df['dropoff_datetime'] - df['pickup_datetime']).total_seconds()/60\n",
        "df['trip_duration'] = df['dropoff_datetime'] - df['pickup_datetime']\n",
        "df['trip_duration_min'] = df['trip_duration'].dt.total_seconds()/60"
      ],
      "execution_count": null,
      "outputs": []
    },
    {
      "cell_type": "code",
      "metadata": {
        "id": "hmV4I3s10TqH"
      },
      "source": [
        "#df.trip_duration_min.describe"
      ],
      "execution_count": null,
      "outputs": []
    },
    {
      "cell_type": "code",
      "metadata": {
        "id": "9FTMd8ht0cKH",
        "colab": {
          "base_uri": "https://localhost:8080/"
        },
        "outputId": "eccbcc26-ba4b-405a-9daf-ba721717b1ad"
      },
      "source": [
        "df.shape"
      ],
      "execution_count": null,
      "outputs": [
        {
          "output_type": "execute_result",
          "data": {
            "text/plain": [
              "(11135470, 37)"
            ]
          },
          "metadata": {},
          "execution_count": 17
        }
      ]
    },
    {
      "cell_type": "code",
      "metadata": {
        "id": "dN8ycAGH06jY"
      },
      "source": [
        "#df.columns"
      ],
      "execution_count": null,
      "outputs": []
    },
    {
      "cell_type": "code",
      "metadata": {
        "id": "O4j6Flqe3tEQ"
      },
      "source": [
        "#%debug"
      ],
      "execution_count": null,
      "outputs": []
    },
    {
      "cell_type": "code",
      "metadata": {
        "id": "rBIeAqS7zMEn"
      },
      "source": [
        "# Remove passenger_count outliers\n",
        "df = df[df['passenger_count']>0]\n",
        "df = df[df['passenger_count']<7]\n",
        "\n",
        "# Remove coordinate outliers\n",
        "df = df[df['pickup_longitude'] <= -73.75]\n",
        "df = df[df['pickup_longitude'] >= -74.03]\n",
        "df = df[df['pickup_latitude'] <= 40.85]\n",
        "df = df[df['pickup_latitude'] >= 40.63]\n",
        "df = df[df['dropoff_longitude'] <= -73.75]\n",
        "df = df[df['dropoff_longitude'] >= -74.03]\n",
        "df = df[df['dropoff_latitude'] <= 40.85]\n",
        "df = df[df['dropoff_latitude'] >= 40.63]\n",
        "\n",
        "# Remove trip_duration outliers\n",
        "trip_duration_mean = np.mean(df['trip_duration'])\n",
        "trip_duration_std = np.std(df['trip_duration'])\n",
        "df = df[df['trip_duration']<=trip_duration_mean + 2*trip_duration_std]\n",
        "df = df[df['trip_duration']>= trip_duration_mean - 2*trip_duration_std]\n",
        "\n",
        "trip_duration_mean = np.mean(df['trip_duration_min'])\n",
        "trip_duration_std = np.std(df['trip_duration_min'])\n",
        "df = df[df['trip_duration_min']<=trip_duration_mean + 2*trip_duration_std]\n",
        "df = df[df['trip_duration_min']>= trip_duration_mean - 2*trip_duration_std]"
      ],
      "execution_count": null,
      "outputs": []
    },
    {
      "cell_type": "code",
      "metadata": {
        "id": "ISzI6FPR5Dfx"
      },
      "source": [
        "df.shape"
      ],
      "execution_count": null,
      "outputs": []
    },
    {
      "cell_type": "code",
      "metadata": {
        "id": "DaHqjbn9O3vs"
      },
      "source": [
        "# Imports\n",
        "import numpy as np\n",
        "import matplotlib.pyplot as plt\n",
        "%matplotlib inline\n",
        "import matplotlib.mlab as mlab\n",
        "import pandas as pd\n",
        "import seaborn as sns\n",
        "import sklearn\n",
        "import warnings\n",
        "warnings.filterwarnings(\"ignore\")\n",
        "from scipy.stats import norm\n",
        "\n",
        "\n",
        "\n",
        "\n",
        "# Mean distribution\n",
        "mu = df['trip_duration_min'].mean()\n",
        "\n",
        "# Std distribution\n",
        "sigma = df['trip_duration_min'].std()\n",
        "num_bins = 100\n",
        "\n",
        "# Histogram \n",
        "fig = plt.figure(figsize=(8.5, 5))\n",
        "n, bins, patches = plt.hist(df['trip_duration_min'], num_bins, density=1, stacked = True, edgecolor = 'black', lw = 1, alpha = .40)\n",
        "# Normal Distribution\n",
        "y = norm.pdf(bins, mu, sigma)\n",
        "plt.plot(bins, y, 'r--', linewidth=2)\n",
        "plt.xlabel('trip_duration_min')\n",
        "plt.ylabel('Probability density')\n",
        "\n",
        "# Adding a title\n",
        "plt.title(r'$\\mathrm{Trip\\ duration\\ skewed \\ to \\ the \\ right:}\\ \\mu=%.3f,\\ \\sigma=%.3f$'%(mu,sigma))\n",
        "plt.grid(True)\n",
        "#fig.tight_layout()\n",
        "plt.show()\n",
        "\n",
        "# Statistical summary\n",
        "df.describe()[['trip_duration_min']].transpose()"
      ],
      "execution_count": null,
      "outputs": []
    },
    {
      "cell_type": "code",
      "metadata": {
        "id": "jYi8SUFXRcIS"
      },
      "source": [
        "df[\"id\"] = df.index"
      ],
      "execution_count": null,
      "outputs": []
    },
    {
      "cell_type": "code",
      "metadata": {
        "id": "C4B18fnXUeL_"
      },
      "source": [
        "#df.loc[:,\"extra\"]\n",
        "df"
      ],
      "execution_count": null,
      "outputs": []
    },
    {
      "cell_type": "code",
      "metadata": {
        "id": "6rCM899LQ3jf"
      },
      "source": [
        "import seaborn as sns\n",
        "plt.figure(figsize=(12,2))\n",
        "\n",
        "bar_df = df.groupby('pickup_hour').aggregate({'id':'count'}).reset_index()\n",
        "sns.barplot(x='pickup_hour', y='id', data=bar_df)\n",
        "\n",
        "plt.title('Pick-ups Hour Distribution')\n",
        "plt.xlabel('Hour of Day, 0-23')\n",
        "plt.ylabel('No of Trips made')\n",
        "plt.show()"
      ],
      "execution_count": null,
      "outputs": []
    },
    {
      "cell_type": "code",
      "metadata": {
        "id": "qsFXmQeNjJkq"
      },
      "source": [
        "df.describe().transpose()"
      ],
      "execution_count": null,
      "outputs": []
    },
    {
      "cell_type": "code",
      "metadata": {
        "id": "YY_gFh0GkQlK"
      },
      "source": [
        "df.loc[df['tip_amount']<0]"
      ],
      "execution_count": null,
      "outputs": []
    },
    {
      "cell_type": "code",
      "metadata": {
        "id": "tdvOnx1yV0_8"
      },
      "source": [
        "#Remove tip outliers\n",
        "df = df[df['tip_amount'] < 0]"
      ],
      "execution_count": null,
      "outputs": []
    },
    {
      "cell_type": "code",
      "metadata": {
        "id": "2Sg28nZ6WAVC"
      },
      "source": [
        "df.loc[df['total_amount'] <= 0]"
      ],
      "execution_count": null,
      "outputs": []
    },
    {
      "cell_type": "code",
      "metadata": {
        "id": "cO0YONZ9WM76"
      },
      "source": [
        "#Remove fare outliers\n",
        "df = df[df['total_amount'] <= 0]"
      ],
      "execution_count": null,
      "outputs": []
    },
    {
      "cell_type": "code",
      "metadata": {
        "id": "kxhMVzxlW5ra"
      },
      "source": [
        "df.loc[df['trip_distance'] <= 0]"
      ],
      "execution_count": null,
      "outputs": []
    },
    {
      "cell_type": "code",
      "metadata": {
        "id": "W7bZAXB4XBy6"
      },
      "source": [
        "df = df[df['trip_distance'] <= 0]"
      ],
      "execution_count": null,
      "outputs": []
    },
    {
      "cell_type": "code",
      "metadata": {
        "id": "Xw-gu-hh216I"
      },
      "source": [
        "# Summarize total trips by day\n",
        "pickups_by_day = df.groupby('pickup_date').count()['id']\n",
        "\n",
        "# Create graph\n",
        "pickups_graph = pickups_by_day.plot(x = 'pickup_date', y = 'id', figsize = (26,8),legend = True)\n",
        "\n",
        "# Customize tick size\n",
        "pickups_graph.tick_params(axis = 'both', which = 'major', labelsize = 12)\n",
        "\n",
        "# Bold horizontal line at y = 0\n",
        "pickups_graph.axhline(y = 0, color = 'black', linewidth = 1.3, alpha = .7)\n",
        "\n",
        "# Customize tick labels of the y-axis\n",
        "pickups_graph.set_yticklabels(labels = [-10, '2000   ', '4000   ', '6000   ', '8000   ', '10000', '12000', '14000', '16000'])\n",
        "\n",
        "# Add an extra vertical line by tweaking the range of the x-axis\n",
        "pickups_graph.set_xlim(left = '2016-06-01', right = '2016-07-01')\n",
        "\n",
        "# Remove the label of the x-axis\n",
        "pickups_graph.xaxis.label.set_visible(True)\n",
        "\n",
        "plt.show()"
      ],
      "execution_count": null,
      "outputs": []
    },
    {
      "cell_type": "code",
      "metadata": {
        "id": "PXTa6V2u66u1"
      },
      "source": [
        "# Identify where spike occured\n",
        "df.groupby('pickup_date').count()#['id'].sort_values(ascending = False)\n"
      ],
      "execution_count": null,
      "outputs": []
    },
    {
      "cell_type": "code",
      "metadata": {
        "id": "1UAtBhBB4xJ7"
      },
      "source": [
        "df.columns"
      ],
      "execution_count": null,
      "outputs": []
    },
    {
      "cell_type": "code",
      "metadata": {
        "id": "_edtv-ODAx9d"
      },
      "source": [
        "df.loc[:,'pickup_date']"
      ],
      "execution_count": null,
      "outputs": []
    },
    {
      "cell_type": "code",
      "metadata": {
        "id": "pqMnqW0PBjBB"
      },
      "source": [
        "df.describe"
      ],
      "execution_count": null,
      "outputs": []
    }
  ]
}